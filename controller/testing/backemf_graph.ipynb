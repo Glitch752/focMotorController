{
 "cells": [
  {
   "cell_type": "code",
   "execution_count": null,
   "id": "c58ad139",
   "metadata": {},
   "outputs": [],
   "source": [
    "%pip install numpy matplotlib"
   ]
  },
  {
   "cell_type": "code",
   "execution_count": null,
   "id": "49976491",
   "metadata": {},
   "outputs": [],
   "source": [
    "import numpy as np\n",
    "import matplotlib.pyplot as plt\n",
    "\n",
    "theta = np.linspace(0, 2 * np.pi, 1000)\n",
    "\n",
    "def backemf_waveform(coeffs, theta):\n",
    "    \"Computes the waveform from Fourier coefficients\"\n",
    "    result = np.zeros_like(theta)\n",
    "    for i, a_n in enumerate(coeffs):\n",
    "        n = 2 * i + 1 # odd harmonics: 1, 3, 5, 7, 9\n",
    "        result += a_n * np.sin(n * theta)\n",
    "    return result\n",
    "\n",
    "sine_coeffs = [1, 0, 0, 0, 0]\n",
    "trapezoidal_coeffs = [1.0, 0.2, 0.1, 0.05, 0.025]\n",
    "square_wave_coeffs = [1.0, 1/3, 1/5, 1/7, 1/9]\n",
    "measured_coeffs = [1.15, 0.2, 0.05, 0.02, 0.01]\n",
    "\n",
    "sine_wave = backemf_waveform(sine_coeffs, theta)\n",
    "trapezoidal_wave = backemf_waveform(trapezoidal_coeffs, theta)\n",
    "square_wave = backemf_waveform(square_wave_coeffs, theta)\n",
    "measured_wave = backemf_waveform(measured_coeffs, theta)\n",
    "\n",
    "# Plot\n",
    "plt.figure(figsize=(10, 6))\n",
    "plt.plot(theta, sine_wave, label='Pure Sine (1, 0, 0, 0, 0)', linestyle='--')\n",
    "plt.plot(theta, trapezoidal_wave, label='Trapezoidal Approx. (1.0, 0.2, 0.1, 0.05, 0.025)', linestyle='-.')\n",
    "plt.plot(theta, square_wave, label='Square Wave Approx. (1, 1/3, 1/5, 1/7, 1/9)', linestyle=':')\n",
    "plt.plot(theta, measured_wave, label='Measured Waveform Approx.', linewidth=2)\n",
    "plt.title('BackEMF Waveform Approximations Using Odd Sine Harmonics')\n",
    "plt.xlabel('Electrical Angle (rad)')\n",
    "plt.ylabel('Normalized BackEMF')\n",
    "plt.legend()\n",
    "plt.grid(True)\n",
    "plt.tight_layout()\n",
    "plt.show()"
   ]
  }
 ],
 "metadata": {
  "kernelspec": {
   "display_name": ".venv",
   "language": "python",
   "name": "python3"
  },
  "language_info": {
   "codemirror_mode": {
    "name": "ipython",
    "version": 3
   },
   "file_extension": ".py",
   "mimetype": "text/x-python",
   "name": "python",
   "nbconvert_exporter": "python",
   "pygments_lexer": "ipython3",
   "version": "3.13.5"
  }
 },
 "nbformat": 4,
 "nbformat_minor": 5
}
